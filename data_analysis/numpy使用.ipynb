{
 "cells": [
  {
   "cell_type": "markdown",
   "metadata": {},
   "source": [
    "# numpy\n",
    "Numpy是Numerical Python的简写，是Python数值计算的基石。它提供多种数据结构、算法以及大部分设计Python数值计算所需的接口。包括：\n",
    "- 快速高效的多维数组对象ndarray\n",
    "- 基于元素的数组计算或数组间数学操作函数\n",
    "- 用于读写硬盘中基于数组的数据集的工具\n",
    "- 线性代数操作、傅里叶变换以及随机数生成\n",
    "- 成熟的C语言API，允许Python扩展和本地的C或C++代码访问Numpy的数据结构和计算设施\n",
    "- 在算法和库之间作为数据传递的数据容器。对于数值数据的存储和操作比Python内建数据结构更高效\n",
    "- 用底层语言编写的库，可以在Numpy数组存储的数据上直接操作，而无须将数据复制到其他内存中后再操作\n",
    "\n",
    "## 创建一维数组\n",
    "数组元素类型必须相同。\n",
    "```\n",
    "numpy.array(tuple|list)\n",
    "```"
   ]
  },
  {
   "cell_type": "code",
   "execution_count": 1,
   "metadata": {},
   "outputs": [
    {
     "name": "stdout",
     "output_type": "stream",
     "text": [
      "[1 2 3 4]\n"
     ]
    }
   ],
   "source": [
    "import numpy as np\n",
    "a = np.array([1, 2, 3, 4])\n",
    "print(a)"
   ]
  },
  {
   "cell_type": "markdown",
   "metadata": {},
   "source": [
    "## 数组的数据类型（整型）\n",
    "\n",
    "\n",
    " | 数据类型 | 类型代码 | 描述 |\n",
    " | :------- | :------- | :--- |\n",
    " | int_    |       | 默认的语言类型，类似C语言中的long,int32或int64 |\n"
   ]
  },
  {
   "cell_type": "code",
   "execution_count": null,
   "metadata": {},
   "outputs": [],
   "source": []
  },
  {
   "cell_type": "code",
   "execution_count": null,
   "metadata": {},
   "outputs": [],
   "source": []
  }
 ],
 "metadata": {
  "kernelspec": {
   "display_name": "Python 3",
   "language": "python",
   "name": "python3"
  },
  "language_info": {
   "codemirror_mode": {
    "name": "ipython",
    "version": 3
   },
   "file_extension": ".py",
   "mimetype": "text/x-python",
   "name": "python",
   "nbconvert_exporter": "python",
   "pygments_lexer": "ipython3",
   "version": "3.8.3"
  }
 },
 "nbformat": 4,
 "nbformat_minor": 4
}
