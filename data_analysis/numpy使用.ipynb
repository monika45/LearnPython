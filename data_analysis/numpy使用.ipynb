{
 "cells": [
  {
   "cell_type": "markdown",
   "metadata": {},
   "source": [
    "# numpy\n",
    "Numpy是Numerical Python的简写，是Python数值计算的基石。它提供多种数据结构、算法以及大部分设计Python数值计算所需的接口。包括：\n",
    "- 快速高效的多维数组对象ndarray\n",
    "- 基于元素的数组计算或数组间数学操作函数\n",
    "- 用于读写硬盘中基于数组的数据集的工具\n",
    "- 线性代数操作、傅里叶变换以及随机数生成\n",
    "- 成熟的C语言API，允许Python扩展和本地的C或C++代码访问Numpy的数据结构和计算设施\n",
    "- 在算法和库之间作为数据传递的数据容器。对于数值数据的存储和操作比Python内建数据结构更高效\n",
    "- 用底层语言编写的库，可以在Numpy数组存储的数据上直接操作，而无须将数据复制到其他内存中后再操作\n",
    "\n",
    "## 创建一维数组\n",
    "数组元素类型必须相同。\n",
    "```\n",
    "numpy.array(tuple|list)\n",
    "```"
   ]
  },
  {
   "cell_type": "code",
   "execution_count": 1,
   "metadata": {},
   "outputs": [
    {
     "name": "stdout",
     "output_type": "stream",
     "text": [
      "[1 2 3 4]\n"
     ]
    }
   ],
   "source": [
    "import numpy as np\n",
    "a = np.array([1, 2, 3, 4])\n",
    "print(a)"
   ]
  },
  {
   "cell_type": "markdown",
   "metadata": {},
   "source": [
    "### 数组的数据类型\n",
    "\n",
    "\n",
    " | 数据类型 | 类型代码 | 描述 |\n",
    " | :------- | :------- | :--- |\n",
    " | int_    |       | 默认的语言类型，类似C语言中的long,int32或int64 |\n",
    " | intc    |       | 与C的int类型一样，一般是int32或int64        |\n",
    " | int8    | i1     | 一个字节的有符号整数，-128 to 127          |\n",
    " | int16   | i2     | 2个字节的有符号整数，-32768 to 32767        |\n",
    " | int32   | i4     | 4字节有符号整数，-2147483648 to 2147483647    |\n",
    " | int64   | i8     | 8字节的有符号整数，-9223372036854775808 to 9223372036854775807 |\n",
    " | uint8   | u1     | 1个字节的无符号整数,0 to 255             |\n",
    " | uint16  | u2      | 2字节无符号整数，0 to 65535  |\n",
    " | uint32  | u4      | 4字节无符号整数，0 to 4294967295 |\n",
    " | uint64  | u8      | 8字节无符号整数，0 to 18446744073709551615 |\n",
    " | float_  |        | float64的简写  |\n",
    " | float16 | f2      | 半精度浮点数 |\n",
    " | float32 | f4或f    | 单精度浮点数 |\n",
    " | float64 | f8或d    | 双精度浮点数 |\n",
    " | complex_  |       | complex128的简写 |\n",
    " | complex64 | c8     | 复数，双32位浮点数（实数部分和虚数部分） |\n",
    " | complex128 | c16    | 复数，双64位浮点数（实数部分和虚数部分） |\n",
    " | string_   | S     | ASCII字符串，例如S7表示长度为7的ASCII字符串 |\n",
    " | unicode_  | U      | unicode字符串，U5表示长度为5的unicode编码的字符串 |\n",
    " | bool_    |       | boolean，True or False\n"
   ]
  },
  {
   "cell_type": "code",
   "execution_count": 15,
   "metadata": {},
   "outputs": [
    {
     "name": "stdout",
     "output_type": "stream",
     "text": [
      "[1 2 3 4] int32\n"
     ]
    }
   ],
   "source": [
    "print(a, a.dtype)"
   ]
  },
  {
   "cell_type": "code",
   "execution_count": 19,
   "metadata": {},
   "outputs": [
    {
     "name": "stdout",
     "output_type": "stream",
     "text": [
      "['3' '5'] <U1\n"
     ]
    }
   ],
   "source": [
    "# 指定数据类型为int64\n",
    "b = np.array([1, 4, 7, 9], dtype=np.int64)\n",
    "# 或者使用类型代码\n",
    "b = np.array([1, 8, 10], dtype='i8')\n",
    "# 转为字符串\n",
    "b = np.array([3, 5], dtype=np.unicode_)\n",
    "print(b, b.dtype)"
   ]
  },
  {
   "cell_type": "markdown",
   "metadata": {},
   "source": [
    "> 其他生成一维数组的方法\n",
    "\n",
    "### arange函数\n",
    "创建数值范围并返回数组对象\n",
    "```\n",
    "# 包含start,不包含stop\n",
    "numpy.arange(start, stop, step, dtype)\n",
    "```\n",
    "### linspace函数\n",
    "创建等差数组\n",
    "```\n",
    "# num设置生成的元素个数，endpoint设置是否包含结束值，True包含（默认）/False不包含，retstep设置是否返回步长（即公差），True返回/False不返回（默认），为True时返回值是二元组，包括数组和步长\n",
    "numpy.linspace(start, stop, num, endpoint, retstep)\n",
    "```\n",
    "\n",
    "### logspace函数\n",
    "创建等比数组\n",
    "```\n",
    "#开始值为base**start,结束值为base**stop\n",
    "numpy.logspace(start, stop, num, endpoint, base, dtype)\n",
    "```"
   ]
  },
  {
   "cell_type": "code",
   "execution_count": 26,
   "metadata": {},
   "outputs": [
    {
     "name": "stdout",
     "output_type": "stream",
     "text": [
      "(array([ 0.,  5., 10., 15., 20.]), 5.0)\n",
      "(array([ 0.,  4.,  8., 12., 16.]), 4.0)\n",
      "[ 0.  5. 10. 15. 20.]\n",
      "[  2   6  22  76 256]\n"
     ]
    }
   ],
   "source": [
    "a = np.linspace(0, 20, 5, True, True)\n",
    "print(a)\n",
    "b = np.linspace(0, 20, 5, False, True)\n",
    "print(b)\n",
    "b = np.linspace(0, 20, 5)\n",
    "print(b)\n",
    "\n",
    "# 开始值为2**1，结束值为2**8\n",
    "a = np.logspace(1, 8, 5, True, 2, np.int64)\n",
    "print(a)"
   ]
  },
  {
   "cell_type": "markdown",
   "metadata": {},
   "source": [
    "## 创建二维数组"
   ]
  },
  {
   "cell_type": "code",
   "execution_count": 27,
   "metadata": {},
   "outputs": [
    {
     "name": "stdout",
     "output_type": "stream",
     "text": [
      "[[1 2 3]\n",
      " [4 5 6]\n",
      " [7 8 9]]\n"
     ]
    }
   ],
   "source": [
    "b = np.array([\n",
    "    [1, 2, 3],\n",
    "    [4, 5, 6],\n",
    "    [7, 8, 9]\n",
    "])\n",
    "print(b)"
   ]
  },
  {
   "cell_type": "markdown",
   "metadata": {},
   "source": [
    "### 数组转置\n",
    "相当于行列翻转\n"
   ]
  },
  {
   "cell_type": "code",
   "execution_count": 28,
   "metadata": {},
   "outputs": [
    {
     "name": "stdout",
     "output_type": "stream",
     "text": [
      "[[1 4]\n",
      " [2 5]\n",
      " [3 6]]\n"
     ]
    }
   ],
   "source": [
    "a = np.array([\n",
    "    [1, 2, 3],\n",
    "    [4, 5, 6]\n",
    "])\n",
    "b = a.T\n",
    "print(b)"
   ]
  },
  {
   "cell_type": "markdown",
   "metadata": {},
   "source": [
    "> 其他生成二维数组的方法\n",
    "\n",
    "### ones函数\n",
    "根据指定的形状和数据类型生成值全为1的数组\n",
    "```\n",
    "# shape是数组的形状\n",
    "numpy.ones(shape, dtype=None)\n",
    "```\n",
    "### zeros函数\n",
    "根据指定的形状和数据类型生成值全为0的数组\n",
    "```\n",
    "numpy.zeros(shape, dtype=None)\n",
    "```\n",
    "### full函数\n",
    "根据指定的形状和数据类型生成数组，并用指定数据填充\n",
    "```\n",
    "# fill_value是填充的数据\n",
    "numpy.full(shape, fill_value, dtype=None)\n",
    "```\n",
    "### identity函数\n",
    "创建单位矩阵（即0轴索引和1轴索引相等,对角线元素为1，其他元素为0的矩阵）\n",
    "```\n",
    "# n是数组形状\n",
    "numpy.identity(n, dtype=None)\n",
    "```"
   ]
  },
  {
   "cell_type": "code",
   "execution_count": 37,
   "metadata": {},
   "outputs": [
    {
     "name": "stdout",
     "output_type": "stream",
     "text": [
      "[[1 1 1]\n",
      " [1 1 1]]\n",
      "[[0. 0. 0.]\n",
      " [0. 0. 0.]]\n",
      "[[9 9 9]\n",
      " [9 9 9]]\n",
      "[[1. 0. 0. 0.]\n",
      " [0. 1. 0. 0.]\n",
      " [0. 0. 1. 0.]\n",
      " [0. 0. 0. 1.]]\n"
     ]
    }
   ],
   "source": [
    "# ones函数:创建2行3列值全为1的二维数组\n",
    "a = np.ones([2, 3], dtype=np.int32)\n",
    "print(a)\n",
    "b = np.zeros([2, 3])\n",
    "print(b)\n",
    "c = np.full([2, 3], 9)\n",
    "print(c)\n",
    "# 行列数相等\n",
    "d = np.identity(4)\n",
    "print(d)"
   ]
  },
  {
   "cell_type": "markdown",
   "metadata": {},
   "source": [
    "## 索引访问\n",
    "\n",
    "- 一维数组的索引访问与python相同：arr[index]\n",
    "- 二维数组的索引访问：arr[x][y]或arr[x, y],x为0轴索引即行，y为1轴索引即列\n",
    "- 索引下标第一位是0，最后一位是-1\n",
    "\n"
   ]
  },
  {
   "cell_type": "code",
   "execution_count": 39,
   "metadata": {},
   "outputs": [
    {
     "name": "stdout",
     "output_type": "stream",
     "text": [
      "0.0\n",
      "0.0\n"
     ]
    }
   ],
   "source": [
    "print(d[3, 2])\n",
    "print(d[3][2])\n"
   ]
  },
  {
   "cell_type": "markdown",
   "metadata": {},
   "source": [
    "## 切片访问\n",
    "\n",
    "浅层复制：切片出来的值修改会影响源数组"
   ]
  },
  {
   "cell_type": "code",
   "execution_count": 64,
   "metadata": {},
   "outputs": [
    {
     "name": "stdout",
     "output_type": "stream",
     "text": [
      "[2 3 4] (5,)\n",
      "(3, 5)\n",
      "[[8]] (1, 1)\n",
      "[[ 2  3  4]\n",
      " [ 7  8  9]\n",
      " [12 13 14]]\n",
      "[ 4  9 14]\n",
      "[ 6  7  8  9 10]\n",
      "[[10]]\n",
      "[[ 1  2  3  4  5]\n",
      " [ 6  7 10  9 10]\n",
      " [11 12 13 14 15]]\n",
      "[20  4]\n",
      "[ 1  2 20  4  5]\n",
      "[22, 3] [1, 2, 3]\n"
     ]
    }
   ],
   "source": [
    "# 一维数组的切片访问与python列表切片相同\n",
    "a = np.array([1, 2, 3, 4, 5])\n",
    "print(a[1:4], a.shape)\n",
    "# 二维数组的切片访问：arr[0轴切片, 1轴切片]\n",
    "b = np.array([\n",
    "    [1, 2, 3, 4, 5],\n",
    "    [6, 7, 8, 9, 10],\n",
    "    [11, 12, 13, 14, 15]\n",
    "])\n",
    "print(b.shape)\n",
    "c = b[1:2, 2:3]\n",
    "# 二维数组切出来的也是二维数组\n",
    "print(c, c.shape)\n",
    "print(b[:, 1:4])\n",
    "# 0轴切片，1轴取值，得到一维数组\n",
    "print(b[:, 3])\n",
    "print(b[1, :])\n",
    "\n",
    "# 切片的值修改会影响源数组\n",
    "c[0][0] = 10\n",
    "print(c)\n",
    "print(b)\n",
    "\n",
    "d = a[2:4]\n",
    "d[0] = 20\n",
    "print(d)\n",
    "print(a)\n",
    "\n"
   ]
  },
  {
   "cell_type": "markdown",
   "metadata": {},
   "source": [
    "## 布尔索引\n",
    "深层复制:在新空间中完成，修改不会影响源数组"
   ]
  },
  {
   "cell_type": "code",
   "execution_count": 67,
   "metadata": {},
   "outputs": [
    {
     "name": "stdout",
     "output_type": "stream",
     "text": [
      "[1 3]\n",
      "[1 2 3 4] [ True False  True False] [10  3]\n",
      "[ 2  5 10]\n"
     ]
    }
   ],
   "source": [
    "a = np.array([1, 2, 3, 4])\n",
    "b = np.array([True, False, True, False])\n",
    "# 索引数组的形状必须与源数组形状一致\n",
    "c = a[b]\n",
    "print(c)\n",
    "c[0] = 10\n",
    "print(a, b, c)\n",
    "\n",
    "a2 = np.array([\n",
    "    [2, 4, 9],\n",
    "    [2, 5, 10]\n",
    "])\n",
    "b2 = np.array([\n",
    "    [True, False, False],\n",
    "    [False, True, True]\n",
    "])\n",
    "# 输出一维数组\n",
    "print(a2[b2])"
   ]
  },
  {
   "cell_type": "markdown",
   "metadata": {},
   "source": [
    "## 花式索引"
   ]
  },
  {
   "cell_type": "code",
   "execution_count": 73,
   "metadata": {},
   "outputs": [
    {
     "name": "stdout",
     "output_type": "stream",
     "text": [
      "[10 33]\n",
      "[10 33]\n",
      "[[29 33]\n",
      " [10 66]]\n"
     ]
    }
   ],
   "source": [
    "# 一维数组的花式索引\n",
    "a = np.array([6, 29, 10, 33, 66])\n",
    "# 整数列表作为索引\n",
    "b = [2, 3]\n",
    "print(a[b]) # b的每个元素作为a的下标\n",
    "# 一维数组作为索引\n",
    "print(a[np.array([2, 3])])\n",
    "# 二维数组作为索引\n",
    "b2 = np.array([\n",
    "    [1, 3],\n",
    "    [2, 4]\n",
    "])\n",
    "print(a[b2]) # 返回二维数组，值依次从a里取"
   ]
  },
  {
   "cell_type": "code",
   "execution_count": 78,
   "metadata": {},
   "outputs": [
    {
     "name": "stdout",
     "output_type": "stream",
     "text": [
      "[17 34]\n",
      "[[17 23 98]\n",
      " [12 34 19]]\n",
      "[98 19]\n",
      "[[98 17]\n",
      " [34  9]]\n",
      "[[98 98]\n",
      " [19  9]]\n"
     ]
    }
   ],
   "source": [
    "# 二维数组的花式索引\n",
    "a2 = np.array([\n",
    "    [4, 10, 9],\n",
    "    [17, 23, 98],\n",
    "    [12, 34, 19]\n",
    "])\n",
    "# 一维数组作为索引\n",
    "m = [1, 2]\n",
    "n = [0, 1]\n",
    "print(a2[m, n]) # 返回一维数组[a2[1][0], a2[2][1]]\n",
    "print(a2[m][n]) # 先取a2[m],得到后两行，再从得到的结果上取result[n]\n",
    "print(a2[m, 2]) # 取a2[1][2],a2[2][2]\n",
    "\n",
    "# 二维数组作为索引\n",
    "m = np.array([\n",
    "    [1, 1],\n",
    "    [2, 0]\n",
    "])\n",
    "n = np.array([\n",
    "    [2, 0],\n",
    "    [1, 2]\n",
    "])\n",
    "print(a2[m, n]) # 返回二维数组,用m和n的元素一一对应a2的下标\n",
    "print(a2[m, 2])"
   ]
  },
  {
   "cell_type": "markdown",
   "metadata": {},
   "source": [
    "## 连接数组\n",
    "\n",
    "### concatenate()函数\n",
    "```\n",
    "# a1,a2是要连接的数组，除了指定轴外，其他轴的元素个数必须相同\n",
    "# axis是延指定轴的索引，默认为0轴\n",
    "numpy.concatenate((a1, a2, ...), axis)\n",
    "```\n",
    "\n",
    "### vstack函数\n",
    "沿垂直堆叠多个数组，相当于concatenate的axis=0的情况\n",
    "```\n",
    "numpy.vstack((a1, a2))\n",
    "```\n",
    "\n",
    "### hstack函数\n",
    "沿水平堆叠多个数组，相当于concatenate的axis=1的情况\n",
    "```\n",
    "numpy.hstack((a1, a2))\n",
    "```"
   ]
  },
  {
   "cell_type": "code",
   "execution_count": 84,
   "metadata": {},
   "outputs": [
    {
     "name": "stdout",
     "output_type": "stream",
     "text": [
      "[[1 2]\n",
      " [3 4]]\n",
      "[[1 2 3 4]]\n",
      "[[1 2]\n",
      " [3 4]]\n",
      "[[1 2 3 4]]\n"
     ]
    }
   ],
   "source": [
    "a = np.array([\n",
    "    [1, 2]\n",
    "])\n",
    "b = np.array([\n",
    "    [3, 4]\n",
    "])\n",
    "print(np.concatenate((a, b))) # 默认沿0轴堆叠,1行+1行=2行\n",
    "print(np.concatenate((a, b), axis=1)) # 沿1轴堆叠，2列+2列=4列\n",
    "print(np.vstack((a, b)))\n",
    "print(np.hstack((a, b)))"
   ]
  },
  {
   "cell_type": "markdown",
   "metadata": {},
   "source": [
    "## 分割数组\n",
    "\n",
    "### split()函数\n",
    "沿指定轴分割多个数组\n",
    "```\n",
    "# arr是要分割的数组\n",
    "# indices_or_sections可以是整数或数组。如果是整数就用该数平均分割，如果是数组，则沿指定轴切片操作\n",
    "# axis 指轴的分割方向，默认0轴\n",
    "numpy.split(arr, indices_or_sections, axis)\n",
    "```\n",
    "### vsplit函数\n",
    "相当于split的axis=0的情况\n",
    "\n",
    "### hsplit函数\n",
    "相当于split的axis=1的情况\n"
   ]
  },
  {
   "cell_type": "code",
   "execution_count": 102,
   "metadata": {},
   "outputs": [
    {
     "name": "stdout",
     "output_type": "stream",
     "text": [
      "[0 1 2 3 4 5 6 7 8 9]\n"
     ]
    }
   ],
   "source": [
    "a = np.arange(10)\n",
    "print(a)"
   ]
  },
  {
   "cell_type": "code",
   "execution_count": 91,
   "metadata": {},
   "outputs": [
    {
     "name": "stdout",
     "output_type": "stream",
     "text": [
      "[array([], dtype=int32), array([0]), array([1]), array([2, 3, 4, 5, 6, 7, 8, 9])]\n",
      "4\n",
      "[array([0, 1]), array([2, 3, 4, 5, 6, 7]), array([8, 9])]\n"
     ]
    }
   ],
   "source": [
    "b = np.split(a, [0, 1, 2])\n",
    "print(b)\n",
    "print(len(b))\n",
    "print(np.split(a, [2, 8]))"
   ]
  },
  {
   "cell_type": "code",
   "execution_count": 98,
   "metadata": {},
   "outputs": [
    {
     "name": "stdout",
     "output_type": "stream",
     "text": [
      "[array([0, 1]), array([2, 3, 4, 5, 6, 7]), array([8, 9])]\n"
     ]
    }
   ],
   "source": [
    "b = np.split(a, np.array([2, 8]))\n",
    "print(b)"
   ]
  },
  {
   "cell_type": "code",
   "execution_count": 107,
   "metadata": {},
   "outputs": [
    {
     "name": "stdout",
     "output_type": "stream",
     "text": [
      "[array([[1, 2, 3, 4]]), array([[5, 6, 7, 8]]), array([[ 9, 10, 11, 12]]), array([[13, 14, 15, 16]])]\n",
      "(1, 4)\n",
      "[array([[ 1],\n",
      "       [ 5],\n",
      "       [ 9],\n",
      "       [13]]), array([[ 2],\n",
      "       [ 6],\n",
      "       [10],\n",
      "       [14]]), array([[ 3],\n",
      "       [ 7],\n",
      "       [11],\n",
      "       [15]]), array([[ 4],\n",
      "       [ 8],\n",
      "       [12],\n",
      "       [16]])]\n",
      "(4, 1)\n"
     ]
    }
   ],
   "source": [
    "a = np.array([\n",
    "    [1, 2, 3, 4],\n",
    "    [5, 6, 7, 8],\n",
    "    [9, 10, 11, 12],\n",
    "    [13, 14, 15, 16]\n",
    "])\n",
    "b = np.split(a, 4) # 分成4个数组,每个都是1行4列的二维数组。分成的数组个数必须整除元素个数\n",
    "print(b)\n",
    "print(b[0].shape)\n",
    "c = np.split(a, 4, axis=1) # 分成4个数组，每个都是4行1列的二维数组\n",
    "print(c)\n",
    "print(c[0].shape)\n"
   ]
  },
  {
   "cell_type": "code",
   "execution_count": 115,
   "metadata": {},
   "outputs": [
    {
     "name": "stdout",
     "output_type": "stream",
     "text": [
      "[array([[1, 2, 3, 4]]), array([[5, 6, 7, 8]]), array([[ 9, 10, 11, 12],\n",
      "       [13, 14, 15, 16]])]\n",
      "[array([[ 1],\n",
      "       [ 5],\n",
      "       [ 9],\n",
      "       [13]]), array([[ 2],\n",
      "       [ 6],\n",
      "       [10],\n",
      "       [14]]), array([[ 3,  4],\n",
      "       [ 7,  8],\n",
      "       [11, 12],\n",
      "       [15, 16]])]\n",
      "[[5 6 7 8]]\n"
     ]
    }
   ],
   "source": [
    "a = np.array([\n",
    "    [1, 2, 3, 4],\n",
    "    [5, 6, 7, 8],\n",
    "    [9, 10, 11, 12],\n",
    "    [13, 14, 15, 16]\n",
    "])\n",
    "b = np.array([1, 2])\n",
    "print(np.split(a, b)) # 按b沿0轴切片，即切片：a[1:2]\n",
    "print(np.split(a, b, axis=1)) # 沿1轴切片a[:, 1:2]"
   ]
  },
  {
   "cell_type": "markdown",
   "metadata": {},
   "source": [
    "## 数组的算术运算\n"
   ]
  },
  {
   "cell_type": "code",
   "execution_count": 119,
   "metadata": {},
   "outputs": [
    {
     "name": "stdout",
     "output_type": "stream",
     "text": [
      "[4 6 8]\n"
     ]
    }
   ],
   "source": [
    "a = np.array([1, 2, 3])\n",
    "b = np.array([3, 4, 5])\n",
    "\n",
    "# + 把对应位置的元素相加\n",
    "print(a + b)"
   ]
  },
  {
   "cell_type": "code",
   "execution_count": 120,
   "metadata": {},
   "outputs": [
    {
     "name": "stdout",
     "output_type": "stream",
     "text": [
      "[1 4 9]\n"
     ]
    }
   ],
   "source": [
    "print(a ** 2)"
   ]
  },
  {
   "cell_type": "code",
   "execution_count": 121,
   "metadata": {},
   "outputs": [
    {
     "name": "stdout",
     "output_type": "stream",
     "text": [
      "[3 6 9]\n"
     ]
    }
   ],
   "source": [
    "print(a * 3)"
   ]
  },
  {
   "cell_type": "code",
   "execution_count": 123,
   "metadata": {},
   "outputs": [
    {
     "name": "stdout",
     "output_type": "stream",
     "text": [
      "[[ 5  9]\n",
      " [ 8 14]]\n",
      "[[ 1  4]\n",
      " [ 9 16]]\n"
     ]
    }
   ],
   "source": [
    "# 二维数组的算术运算\n",
    "a = np.array([\n",
    "    [1, 2],\n",
    "    [3, 4]\n",
    "])\n",
    "b = np.array([\n",
    "    [4, 7],\n",
    "    [5, 10]\n",
    "])\n",
    "print(a + b)\n",
    "print(a ** 2)"
   ]
  },
  {
   "cell_type": "markdown",
   "metadata": {},
   "source": [
    "## 数组广播\n",
    "\n",
    "数组和标量进行算术运算，相当于先将标量广播为与数组形状相同的数组，再进行2个数组的算术运算。"
   ]
  },
  {
   "cell_type": "code",
   "execution_count": 125,
   "metadata": {},
   "outputs": [
    {
     "name": "stdout",
     "output_type": "stream",
     "text": [
      "[3 4 5]\n"
     ]
    }
   ],
   "source": [
    "a = np.array([1, 2, 3])\n",
    "print(a + 2) # 广播为[2, 2, 2]"
   ]
  },
  {
   "cell_type": "code",
   "execution_count": 126,
   "metadata": {},
   "outputs": [
    {
     "name": "stdout",
     "output_type": "stream",
     "text": [
      "[[4 6]\n",
      " [6 8]]\n"
     ]
    }
   ],
   "source": [
    "# 先比较形状 ： (2,) vs (2, 2) \n",
    "# 再比较维度: 一维数组 vs 二维数组，a广播为2维数组=》(1, 2) vs (2, 2)\n",
    "# 再比较轴长度: 0轴长度为1(轴长度为1，可广播) vs 0轴长度为2， a广播为0轴长度为2 =》 array([[1, 2], [1, 2]]) \n",
    "a = np.array([1, 2]) \n",
    "b = np.array([\n",
    "    [3, 4],\n",
    "    [5, 6]\n",
    "])\n",
    "print(a + b)\n"
   ]
  },
  {
   "cell_type": "code",
   "execution_count": 127,
   "metadata": {},
   "outputs": [
    {
     "name": "stdout",
     "output_type": "stream",
     "text": [
      "[[4 5]\n",
      " [5 6]]\n"
     ]
    }
   ],
   "source": [
    "a = np.array([1, 2]) # 广播为：array([[1, 2],[1, 2]])\n",
    "b = np.array([  # 广播为：array([[3, 3], [4, 4]])\n",
    "    [3],\n",
    "    [4]\n",
    "])\n",
    "print(a + b)"
   ]
  },
  {
   "cell_type": "markdown",
   "metadata": {},
   "source": [
    "## 随机数函数\n",
    "\n",
    "### rand函数\n",
    "返回[0.0,1.0)的随机浮点数,>=0 且 < 1\n",
    "\n",
    "### randint()\n",
    "\n",
    "返回[low, high)的随机整数，如果high省略，返回[0, low)的随机整数\n",
    "\n",
    "```\n",
    "# size表示数组形状，传元组\n",
    "numpyt.random.randint(low, high, size, dtype)\n",
    "```\n",
    "\n",
    "### normal\n",
    "返回正态分布随机数\n",
    "```\n",
    "# loc表示平均值\n",
    "# scale表示标准差\n",
    "# size表示形状\n",
    "numpy.random.normal(loc, scale, size)\n",
    "```\n",
    "\n",
    "### randn()\n",
    "返回标准正态分布随机数，即平均数为0，标准差1的正态分布随机数\n",
    "```\n",
    "numpy.random.randn(d0, d1,.....)\n",
    "```\n",
    "\n"
   ]
  },
  {
   "cell_type": "code",
   "execution_count": 130,
   "metadata": {},
   "outputs": [
    {
     "name": "stdout",
     "output_type": "stream",
     "text": [
      "[0.54436198 0.93614277 0.52305208 0.09284249 0.3293429  0.95387374\n",
      " 0.02654216 0.6297645  0.65220802 0.3123867 ]\n",
      "(10,)\n"
     ]
    }
   ],
   "source": [
    "a = np.random.rand(10) # 10个随机数，>=0且<1\n",
    "print(a)\n",
    "print(a.shape)"
   ]
  },
  {
   "cell_type": "code",
   "execution_count": 131,
   "metadata": {},
   "outputs": [
    {
     "name": "stdout",
     "output_type": "stream",
     "text": [
      "[[0.02861354 0.28209082 0.46717515 0.10713823]\n",
      " [0.71288506 0.24743799 0.93352946 0.47373742]\n",
      " [0.03917216 0.32659781 0.93069749 0.30354448]]\n",
      "(3, 4)\n"
     ]
    }
   ],
   "source": [
    "a = np.random.rand(3, 4) # 3行4列\n",
    "print(a)\n",
    "print(a.shape)"
   ]
  },
  {
   "cell_type": "code",
   "execution_count": 133,
   "metadata": {},
   "outputs": [
    {
     "name": "stdout",
     "output_type": "stream",
     "text": [
      "[14 10  2  4 14]\n"
     ]
    }
   ],
   "source": [
    "a = np.random.randint(1, 20, 5)\n",
    "print(a)"
   ]
  },
  {
   "cell_type": "code",
   "execution_count": 135,
   "metadata": {},
   "outputs": [
    {
     "name": "stdout",
     "output_type": "stream",
     "text": [
      "[1 1 2 0 2]\n"
     ]
    }
   ],
   "source": [
    "print(np.random.randint(3, size=(5,)))"
   ]
  },
  {
   "cell_type": "code",
   "execution_count": 136,
   "metadata": {},
   "outputs": [
    {
     "name": "stdout",
     "output_type": "stream",
     "text": [
      "[[4 4 4 3]\n",
      " [3 3 4 4]\n",
      " [3 3 4 3]]\n"
     ]
    }
   ],
   "source": [
    "print(np.random.randint(3, 5, size=(3, 4)))"
   ]
  },
  {
   "cell_type": "code",
   "execution_count": 139,
   "metadata": {},
   "outputs": [
    {
     "name": "stdout",
     "output_type": "stream",
     "text": [
      "[[ 9.75148968 12.77952529 11.05078786 10.94168447]\n",
      " [10.93317771 10.08505066 11.29650679  8.5710365 ]\n",
      " [ 8.43806269  7.87744513  9.30756949 12.15621782]]\n"
     ]
    }
   ],
   "source": [
    "print(np.random.normal(10, 1, size=(3, 4)))"
   ]
  },
  {
   "cell_type": "code",
   "execution_count": 141,
   "metadata": {},
   "outputs": [
    {
     "name": "stdout",
     "output_type": "stream",
     "text": [
      "[[ 1.57977677 -0.28812567 -0.5147047   0.956609  ]\n",
      " [ 0.04196001  1.89789459 -0.83070987  0.68127608]\n",
      " [-0.11236122 -0.14385129  0.90473287 -2.45657891]]\n"
     ]
    }
   ],
   "source": [
    "print(np.random.randn(3, 4))"
   ]
  },
  {
   "cell_type": "markdown",
   "metadata": {},
   "source": [
    "## 排序函数\n",
    "\n",
    "### sort函数\n",
    "按照轴对数组进行排序\n",
    "```\n",
    "# a表示要排序的数组\n",
    "# 表示排序的轴索引，-1表示最后一个轴\n",
    "# kind:quiksort-快速排序，heapsort-堆排序，mergesort-归并排序\n",
    "# order表示排序字段\n",
    "numpy.sort(a, axis=-1, kind='quiksort', order=None)\n",
    "```\n",
    "### argsort\n",
    "按照轴对数组进行排序索引，即轴排序索引。最终结果是元素对应的索引\n",
    "```\n",
    "numpy.argsort(a, axis=-1, kind='quiksort', order=None)\n",
    "```\n"
   ]
  },
  {
   "cell_type": "code",
   "execution_count": 143,
   "metadata": {},
   "outputs": [
    {
     "name": "stdout",
     "output_type": "stream",
     "text": [
      "[[26 21 22 10]\n",
      " [ 6  7 13 25]\n",
      " [ 7 29 17  3]]\n"
     ]
    }
   ],
   "source": [
    "a = np.random.randint(1, 30, size=(3, 4))\n",
    "print(a)"
   ]
  },
  {
   "cell_type": "code",
   "execution_count": 145,
   "metadata": {},
   "outputs": [
    {
     "name": "stdout",
     "output_type": "stream",
     "text": [
      "[[10 21 22 26]\n",
      " [ 6  7 13 25]\n",
      " [ 3  7 17 29]]\n"
     ]
    }
   ],
   "source": [
    "print(np.sort(a, axis=-1)) # 按1轴排序"
   ]
  },
  {
   "cell_type": "code",
   "execution_count": 146,
   "metadata": {},
   "outputs": [
    {
     "name": "stdout",
     "output_type": "stream",
     "text": [
      "[[ 6  7 13  3]\n",
      " [ 7 21 17 10]\n",
      " [26 29 22 25]]\n"
     ]
    }
   ],
   "source": [
    "print(np.sort(a, axis=0)) # 按0轴排序"
   ]
  },
  {
   "cell_type": "code",
   "execution_count": 148,
   "metadata": {},
   "outputs": [
    {
     "name": "stdout",
     "output_type": "stream",
     "text": [
      "[[26 21 22 10]\n",
      " [ 6  7 13 25]\n",
      " [ 7 29 17  3]]\n",
      "[[3 1 2 0]\n",
      " [0 1 2 3]\n",
      " [3 0 2 1]]\n"
     ]
    }
   ],
   "source": [
    "print(a) # 原数组\n",
    "print(np.argsort(a)) # 返回排序后的索引"
   ]
  },
  {
   "cell_type": "code",
   "execution_count": null,
   "metadata": {},
   "outputs": [],
   "source": []
  },
  {
   "cell_type": "markdown",
   "metadata": {},
   "source": [
    "## 聚合函数\n",
    "\n",
    "### 求和\n",
    "```\n",
    "numpy.sum(a, axis=None)\n",
    "# 会忽略NaN\n",
    "numpy.nansum(a, axis=None)\n",
    "# 使用数组对象的sum方法\n",
    "ndarray.sum(axis=None)\n",
    "```\n",
    "### 求最大值\n",
    "```\n",
    "numpy.amax(a, axis=None)\n",
    "numpy.nanmax(a, axis=None)\n",
    "ndarray.max(axis=None)\n",
    "\n",
    "```\n",
    "### 求最小值\n",
    "```\n",
    "numpy.amin(a, axis=None)\n",
    "numpy.nanmin(a, axis=None)\n",
    "ndarray.min(axis=None)\n",
    "```\n",
    "\n",
    "### 求平均值\n",
    "```\n",
    "numpy.mean(a, axis=None)\n",
    "numpy.nanmean(a, axis=None)\n",
    "ndarray.mean(axis=None)\n",
    "\n",
    "```\n",
    "### 求加权平均值\n",
    "```\n",
    "# weights表示权重\n",
    "numpy.average(a, axis=None, weights=None)\n",
    "\n",
    "```\n",
    "\n"
   ]
  },
  {
   "cell_type": "code",
   "execution_count": 171,
   "metadata": {},
   "outputs": [
    {
     "name": "stdout",
     "output_type": "stream",
     "text": [
      "14\n",
      "[5 9]\n",
      "14\n",
      "[3 5]\n",
      "5\n",
      "2\n",
      "2\n",
      "3.5\n",
      "3.5\n",
      "2.9\n"
     ]
    }
   ],
   "source": [
    "a = np.array([\n",
    "    [2, 3],\n",
    "    [4, 5]\n",
    "])\n",
    "print(np.sum(a))\n",
    "print(np.sum(a, axis=1))\n",
    "print(a.sum())\n",
    "print(np.amax(a, axis=1))\n",
    "print(a.max())\n",
    "print(np.amin(a))\n",
    "print(a.min())\n",
    "print(np.mean(a))\n",
    "print(a.mean())\n",
    "print(np.average(a, axis=None, weights=[[0.6, 0.1],[0.1, 0.2]]))"
   ]
  },
  {
   "cell_type": "code",
   "execution_count": 167,
   "metadata": {},
   "outputs": [
    {
     "name": "stdout",
     "output_type": "stream",
     "text": [
      "9.0\n",
      "nan\n",
      "[3. 4.]\n",
      "2.0\n",
      "3.0\n"
     ]
    }
   ],
   "source": [
    "a = np.array([\n",
    "    [2, 3],\n",
    "    [4, np.nan]\n",
    "])\n",
    "print(np.nansum(a))\n",
    "print(np.sum(a))\n",
    "print(np.nanmax(a, axis=1))\n",
    "print(np.nanmin(a))\n",
    "print(np.nanmean(a))"
   ]
  },
  {
   "cell_type": "markdown",
   "metadata": {},
   "source": [
    "## 数组的保存\n",
    "\n",
    "### save函数\n",
    "将1个数组保存到后缀名为“.npy”的二进制文件中\n",
    "```\n",
    "# file:目标文件\n",
    "# allow_pickle:是否允许使用pickle来保存数组对象\n",
    "# fix_imports:是否允许在python2中读取python3保存的数据\n",
    "numpy.save(file, arr, allow_pickle=True, fix_imports=True)\n",
    "```\n",
    "### savez函数\n",
    "将多个数组保存到未压缩的后缀名为“.npz”的二进制文件中\n",
    "```\n",
    "# array_a,array_b是键，a1 a2是要保存的数组\n",
    "numpy.savez(file, array_a=a1, array_b=a2)\n",
    "```\n",
    "### savez_compressed函数\n",
    "将多个数组保存到压缩的后缀名为“.npz”的二进制文件中\n",
    "```\n",
    "numpy.savez_compressed(file, array_a=a1, array_b=a2)\n",
    "```\n",
    "## 数组的读取\n",
    "### load函数\n",
    "读取\".npy\"和\".npz\"文件中的数组\n",
    "```\n",
    "# mmap_mode:内存映射模式，即读取较大的numpy数组时的模式，默认为None\n",
    "numpy.load(file, mmap_mode, allow_pickle, fix_imports)\n",
    "```"
   ]
  },
  {
   "cell_type": "code",
   "execution_count": null,
   "metadata": {},
   "outputs": [],
   "source": []
  }
 ],
 "metadata": {
  "kernelspec": {
   "display_name": "Python 3",
   "language": "python",
   "name": "python3"
  },
  "language_info": {
   "codemirror_mode": {
    "name": "ipython",
    "version": 3
   },
   "file_extension": ".py",
   "mimetype": "text/x-python",
   "name": "python",
   "nbconvert_exporter": "python",
   "pygments_lexer": "ipython3",
   "version": "3.8.3"
  }
 },
 "nbformat": 4,
 "nbformat_minor": 4
}
