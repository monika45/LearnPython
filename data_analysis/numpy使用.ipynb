{
 "cells": [
  {
   "cell_type": "markdown",
   "metadata": {},
   "source": [
    "# numpy\n",
    "Numpy是Numerical Python的简写，是Python数值计算的基石。它提供多种数据结构、算法以及大部分设计Python数值计算所需的接口。包括：\n",
    "- 快速高效的多维数组对象ndarray\n",
    "- 基于元素的数组计算或数组间数学操作函数\n",
    "- 用于读写硬盘中基于数组的数据集的工具\n",
    "- 线性代数操作、傅里叶变换以及随机数生成\n",
    "- 成熟的C语言API，允许Python扩展和本地的C或C++代码访问Numpy的数据结构和计算设施\n",
    "- 在算法和库之间作为数据传递的数据容器。对于数值数据的存储和操作比Python内建数据结构更高效\n",
    "- 用底层语言编写的库，可以在Numpy数组存储的数据上直接操作，而无须将数据复制到其他内存中后再操作\n",
    "\n",
    "## 创建一维数组\n",
    "数组元素类型必须相同。\n",
    "```\n",
    "numpy.array(tuple|list)\n",
    "```"
   ]
  },
  {
   "cell_type": "code",
   "execution_count": 1,
   "metadata": {},
   "outputs": [
    {
     "name": "stdout",
     "output_type": "stream",
     "text": [
      "[1 2 3 4]\n"
     ]
    }
   ],
   "source": [
    "import numpy as np\n",
    "a = np.array([1, 2, 3, 4])\n",
    "print(a)"
   ]
  },
  {
   "cell_type": "markdown",
   "metadata": {},
   "source": [
    "### 数组的数据类型\n",
    "\n",
    "\n",
    " | 数据类型 | 类型代码 | 描述 |\n",
    " | :------- | :------- | :--- |\n",
    " | int_    |       | 默认的语言类型，类似C语言中的long,int32或int64 |\n",
    " | intc    |       | 与C的int类型一样，一般是int32或int64        |\n",
    " | int8    | i1     | 一个字节的有符号整数，-128 to 127          |\n",
    " | int16   | i2     | 2个字节的有符号整数，-32768 to 32767        |\n",
    " | int32   | i4     | 4字节有符号整数，-2147483648 to 2147483647    |\n",
    " | int64   | i8     | 8字节的有符号整数，-9223372036854775808 to 9223372036854775807 |\n",
    " | uint8   | u1     | 1个字节的无符号整数,0 to 255             |\n",
    " | uint16  | u2      | 2字节无符号整数，0 to 65535  |\n",
    " | uint32  | u4      | 4字节无符号整数，0 to 4294967295 |\n",
    " | uint64  | u8      | 8字节无符号整数，0 to 18446744073709551615 |\n",
    " | float_  |        | float64的简写  |\n",
    " | float16 | f2      | 半精度浮点数 |\n",
    " | float32 | f4或f    | 单精度浮点数 |\n",
    " | float64 | f8或d    | 双精度浮点数 |\n",
    " | complex_  |       | complex128的简写 |\n",
    " | complex64 | c8     | 复数，双32位浮点数（实数部分和虚数部分） |\n",
    " | complex128 | c16    | 复数，双64位浮点数（实数部分和虚数部分） |\n",
    " | string_   | S     | ASCII字符串，例如S7表示长度为7的ASCII字符串 |\n",
    " | unicode_  | U      | unicode字符串，U5表示长度为5的unicode编码的字符串 |\n",
    " | bool_    |       | boolean，True or False\n"
   ]
  },
  {
   "cell_type": "code",
   "execution_count": 15,
   "metadata": {},
   "outputs": [
    {
     "name": "stdout",
     "output_type": "stream",
     "text": [
      "[1 2 3 4] int32\n"
     ]
    }
   ],
   "source": [
    "print(a, a.dtype)"
   ]
  },
  {
   "cell_type": "code",
   "execution_count": 19,
   "metadata": {},
   "outputs": [
    {
     "name": "stdout",
     "output_type": "stream",
     "text": [
      "['3' '5'] <U1\n"
     ]
    }
   ],
   "source": [
    "# 指定数据类型为int64\n",
    "b = np.array([1, 4, 7, 9], dtype=np.int64)\n",
    "# 或者使用类型代码\n",
    "b = np.array([1, 8, 10], dtype='i8')\n",
    "# 转为字符串\n",
    "b = np.array([3, 5], dtype=np.unicode_)\n",
    "print(b, b.dtype)"
   ]
  },
  {
   "cell_type": "markdown",
   "metadata": {},
   "source": [
    "### arange函数\n",
    "创建数值范围并返回数组对象\n",
    "```\n",
    "# 包含start,不包含stop\n",
    "numpy.arange(start, stop, step, dtype)\n",
    "```\n",
    "### linspace函数\n",
    "创建等差数组\n",
    "```\n",
    "# num设置生成的元素个数，endpoint设置是否包含结束值，True包含（默认）/False不包含，retstep设置是否返回步长（即公差），True返回/False不返回（默认），为True时返回值是二元组，包括数组和步长\n",
    "numpy.linspace(start, stop, num, endpoint, retstep)\n",
    "```\n",
    "\n",
    "### logspace函数\n",
    "创建等比数组\n",
    "```\n",
    "#开始值为base**start,结束值为base**stop\n",
    "numpy.logspace(start, stop, num, endpoint, base, dtype)\n",
    "```"
   ]
  },
  {
   "cell_type": "code",
   "execution_count": 26,
   "metadata": {},
   "outputs": [
    {
     "name": "stdout",
     "output_type": "stream",
     "text": [
      "(array([ 0.,  5., 10., 15., 20.]), 5.0)\n",
      "(array([ 0.,  4.,  8., 12., 16.]), 4.0)\n",
      "[ 0.  5. 10. 15. 20.]\n",
      "[  2   6  22  76 256]\n"
     ]
    }
   ],
   "source": [
    "a = np.linspace(0, 20, 5, True, True)\n",
    "print(a)\n",
    "b = np.linspace(0, 20, 5, False, True)\n",
    "print(b)\n",
    "b = np.linspace(0, 20, 5)\n",
    "print(b)\n",
    "\n",
    "# 开始值为2**1，结束值为2**8\n",
    "a = np.logspace(1, 8, 5, True, 2, np.int64)\n",
    "print(a)"
   ]
  },
  {
   "cell_type": "markdown",
   "metadata": {},
   "source": [
    "## 创建二维数组"
   ]
  },
  {
   "cell_type": "code",
   "execution_count": 27,
   "metadata": {},
   "outputs": [
    {
     "name": "stdout",
     "output_type": "stream",
     "text": [
      "[[1 2 3]\n",
      " [4 5 6]\n",
      " [7 8 9]]\n"
     ]
    }
   ],
   "source": [
    "b = np.array([\n",
    "    [1, 2, 3],\n",
    "    [4, 5, 6],\n",
    "    [7, 8, 9]\n",
    "])\n",
    "print(b)"
   ]
  },
  {
   "cell_type": "markdown",
   "metadata": {},
   "source": [
    "### 数组转置\n",
    "相当于行列翻转\n"
   ]
  },
  {
   "cell_type": "code",
   "execution_count": null,
   "metadata": {},
   "outputs": [],
   "source": [
    "a = np.array([\n",
    "    [1, 2, 3],\n",
    "    [4, 5, 6]\n",
    "])\n",
    "b = a."
   ]
  }
 ],
 "metadata": {
  "kernelspec": {
   "display_name": "Python 3",
   "language": "python",
   "name": "python3"
  },
  "language_info": {
   "codemirror_mode": {
    "name": "ipython",
    "version": 3
   },
   "file_extension": ".py",
   "mimetype": "text/x-python",
   "name": "python",
   "nbconvert_exporter": "python",
   "pygments_lexer": "ipython3",
   "version": "3.8.3"
  }
 },
 "nbformat": 4,
 "nbformat_minor": 4
}
