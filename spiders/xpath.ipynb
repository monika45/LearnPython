{
 "cells": [
  {
   "cell_type": "markdown",
   "metadata": {},
   "source": [
    "# xpath使用\n",
    "\n",
    "| 表达式 | 描述 |\n",
    "| ----------------- | ---------------------------------------- |\n",
    "| nodename       | 选择所有名为nodename的节点           |\n",
    "| /            | 从根节点选择                    |\n",
    "| //           | 选择当前节点下所有匹配的节点         |\n",
    "| .            | 选择当前节点                    |\n",
    "| ..           | 选择父节点                     |\n",
    "| @            | 选择属性                       |\n",
    "\n"
   ]
  }
 ],
 "metadata": {
  "kernelspec": {
   "display_name": "Python 3",
   "language": "python",
   "name": "python3"
  },
  "language_info": {
   "codemirror_mode": {
    "name": "ipython",
    "version": 3
   },
   "file_extension": ".py",
   "mimetype": "text/x-python",
   "name": "python",
   "nbconvert_exporter": "python",
   "pygments_lexer": "ipython3",
   "version": "3.8.3"
  }
 },
 "nbformat": 4,
 "nbformat_minor": 4
}
